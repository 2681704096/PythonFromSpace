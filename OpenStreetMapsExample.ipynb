{
 "cells": [
  {
   "cell_type": "code",
   "execution_count": 1,
   "metadata": {
    "collapsed": false
   },
   "outputs": [],
   "source": [
    "import os\n",
    "import utm\n",
    "import gdal\n",
    "import time\n",
    "import warnings\n",
    "from osgeo import gdal\n",
    "from osmapi import OsmApi\n",
    "#http://python-overpy.readthedocs.io/en/latest/introduction.html\n",
    "import overpy\n",
    "api = overpy.Overpass()\n",
    "# http://overpass-turbo.eu/# <- construct nice queries\n",
    "import matplotlib.pyplot as plt\n",
    "from geopy.geocoders import Nominatim\n",
    "# GDAL does not use python exceptions by default\n",
    "gdal.UseExceptions()\n",
    "#/*\n",
    "\n"
   ]
  },
  {
   "cell_type": "code",
   "execution_count": 2,
   "metadata": {
    "collapsed": false
   },
   "outputs": [],
   "source": [
    "#run this to get something we can render or use the visual product\n",
    "#gdal_translate -ot Byte -scale 0 4096 0 255 /home/kat/code/hacking/osm/20170222_231253_0c27/20170222_231253_0c27_3B_AnalyticMS.tif test.tif"
   ]
  },
  {
   "cell_type": "code",
   "execution_count": 21,
   "metadata": {
    "collapsed": false,
    "scrolled": true
   },
   "outputs": [
    {
     "name": "stdout",
     "output_type": "stream",
     "text": [
      "PROJCS[\"WGS 84 / UTM zone 10N\",GEOGCS[\"WGS 84\",DATUM[\"WGS_1984\",SPHEROID[\"WGS 84\",6378137,298.257223563,AUTHORITY[\"EPSG\",\"7030\"]],AUTHORITY[\"EPSG\",\"6326\"]],PRIMEM[\"Greenwich\",0,AUTHORITY[\"EPSG\",\"8901\"]],UNIT[\"degree\",0.0174532925199433,AUTHORITY[\"EPSG\",\"9122\"]],AUTHORITY[\"EPSG\",\"4326\"]],PROJECTION[\"Transverse_Mercator\"],PARAMETER[\"latitude_of_origin\",0],PARAMETER[\"central_meridian\",-123],PARAMETER[\"scale_factor\",0.9996],PARAMETER[\"false_easting\",500000],PARAMETER[\"false_northing\",0],UNIT[\"metre\",1,AUTHORITY[\"EPSG\",\"9001\"]],AXIS[\"Easting\",EAST],AXIS[\"Northing\",NORTH],AUTHORITY[\"EPSG\",\"32610\"]]\n",
      "(540504.0, 3.0, 0.0, 4191378.0, 0.0, -3.0)\n"
     ]
    }
   ],
   "source": [
    "infile = \"/home/katscott/code/hacking/PythonFromSpace/20170211_181115_0e16/20170211_181115_0e16_3B_Visual.tif\"\n",
    "#infile = \"/home/kat/code/hacking/PythonFromSpace/test.tif\"\n",
    "gtif = gdal.Open(infile)\n",
    "print gtif.GetProjectionRef()\n",
    "arr = gtif.ReadAsArray()\n",
    "trans = gtif.GetGeoTransform()\n",
    "print trans\n",
    "extent = (trans[0], trans[0] + gtif.RasterXSize*trans[1],\n",
    "          trans[3] + gtif.RasterYSize*trans[5], trans[3])\n",
    "pos = [5000,1900] # this is the pixel we want info about\n",
    "plt.imshow(arr[:3,:,:].transpose((1, 2, 0)))#, extent=extent)\n",
    "fig = plt.gcf()\n",
    "plt.annotate(\"{0},{1}\".format(pos[0],pos[1]), xy=pos, xycoords='data',\n",
    "             xytext=(0.5, 0.5), textcoords='figure fraction',\n",
    "             arrowprops=dict(arrowstyle=\"->\"))\n",
    "fig.set_size_inches(18.5, 10.5)\n",
    "plt.show()"
   ]
  },
  {
   "cell_type": "code",
   "execution_count": 8,
   "metadata": {
    "collapsed": false
   },
   "outputs": [],
   "source": [
    "def pixel2utm(ds, x, y):\n",
    "    \"\"\"\n",
    "    Returns utm coordinates from pixel x, y coords\n",
    "    \"\"\"\n",
    "    xoff, a, b, yoff, d, e = ds.GetGeoTransform()\n",
    "    xp = a * x + b * y + xoff\n",
    "    yp = d * x + e * y + yoff\n",
    "    return(xp, yp)"
   ]
  },
  {
   "cell_type": "code",
   "execution_count": 9,
   "metadata": {
    "collapsed": false
   },
   "outputs": [
    {
     "name": "stdout",
     "output_type": "stream",
     "text": [
      "SF Winery, 200, California Avenue, SF, California, 94130, United States of America\n",
      "{u'display_name': u'SF Winery, 200, California Avenue, SF, California, 94130, United States of America', u'place_id': u'69202063', u'lon': u'-122.36980175', u'boundingbox': [u'37.8168224', u'37.8179618', u'-122.3703775', u'-122.369226'], u'osm_type': u'way', u'licence': u'Data \\xa9 OpenStreetMap contributors, ODbL 1.0. http://www.openstreetmap.org/copyright', u'osm_id': u'24274429', u'lat': u'37.8173921', u'address': {u'building': u'SF Winery', u'city': u'SF', u'house_number': u'200', u'country': u'United States of America', u'county': u'SF', u'state': u'California', u'postcode': u'94130', u'country_code': u'us', u'road': u'California Avenue'}}\n",
      "69202063\n"
     ]
    },
    {
     "name": "stderr",
     "output_type": "stream",
     "text": [
      "/usr/local/lib/python2.7/dist-packages/urllib3/util/ssl_.py:122: InsecurePlatformWarning: A true SSLContext object is not available. This prevents urllib3 from configuring SSL appropriately and may cause certain SSL connections to fail. You can upgrade to a newer version of Python to solve this. For more information, see https://urllib3.readthedocs.org/en/latest/security.html#insecureplatformwarning.\n",
      "  InsecurePlatformWarning\n"
     ]
    },
    {
     "name": "stdout",
     "output_type": "stream",
     "text": [
      "{u'changeset': 3353549, u'uid': 147510, u'timestamp': datetime.datetime(2009, 12, 12, 3, 38, 31), u'lon': -84.562955, u'visible': True, u'version': 2, u'user': u'woodpeck_fixbot', u'lat': 33.592651, u'tag': {}, u'id': 69202063}\n"
     ]
    }
   ],
   "source": [
    "ds = gdal.Open(infile)\n",
    "# take the GDAL info and make it into UTM\n",
    "my_utm = pixel2utm(ds,pos[0],pos[1])\n",
    "# convert UTM into Lat Long\n",
    "# need to figure out how to get zone info\n",
    "my_lla = utm.to_latlon(my_utm[0],my_utm[1],10,\"N\")\n",
    "# do the lat long look up from OSM\n",
    "geolocator = Nominatim()\n",
    "# reverse look up the are based on lat lon\n",
    "location = geolocator.reverse(\"{0},{1}\".format(my_lla[0],my_lla[1]))\n",
    "# print location info\n",
    "print location.address\n",
    "print location.raw\n",
    "# get the OSM ID info\n",
    "osm_id = int(location.raw[\"place_id\"])\n",
    "print osm_id\n",
    "# create an interface to the OSM API\n",
    "MyApi = OsmApi()\n",
    "# Look up our position \n",
    "print MyApi.NodeGet(osm_id)\n"
   ]
  },
  {
   "cell_type": "code",
   "execution_count": 10,
   "metadata": {
    "collapsed": false
   },
   "outputs": [],
   "source": [
    "plt.imshow(arr[:3,:,:].transpose((1, 2, 0)))#, extent=extent)\n",
    "fig = plt.gcf()\n",
    "plt.annotate(location.address, xy=pos, xycoords='data',\n",
    "             xytext=(0.25, 0.5), textcoords='figure fraction',color=\"red\",\n",
    "             arrowprops=dict(arrowstyle=\"->\"))\n",
    "fig.set_size_inches(18.5, 10.5)\n",
    "plt.show()"
   ]
  },
  {
   "cell_type": "code",
   "execution_count": 11,
   "metadata": {
    "collapsed": false
   },
   "outputs": [
    {
     "name": "stderr",
     "output_type": "stream",
     "text": [
      "ERROR: An unexpected error occurred while tokenizing input\n",
      "The following traceback may be corrupted or invalid\n",
      "The error message is: ('EOF in multi-line string', (1, 4))\n",
      "\n"
     ]
    },
    {
     "ename": "OverpassBadRequest",
     "evalue": "Error: line 5: parse error: Unknown query clause \nError: line 5: parse error: ')' expected - '{' found. ",
     "output_type": "error",
     "traceback": [
      "\u001b[1;31m---------------------------------------------------------------------------\u001b[0m",
      "\u001b[1;31mOverpassBadRequest\u001b[0m                        Traceback (most recent call last)",
      "\u001b[1;32m<ipython-input-11-43eaaa27a817>\u001b[0m in \u001b[0;36m<module>\u001b[1;34m()\u001b[0m\n\u001b[0;32m     23\u001b[0m     \u001b[1;33m>\u001b[0m\u001b[1;33m;\u001b[0m\u001b[1;33m\u001b[0m\u001b[0m\n\u001b[0;32m     24\u001b[0m     \u001b[0mout\u001b[0m \u001b[0mskel\u001b[0m \u001b[0mqt\u001b[0m\u001b[1;33m;\u001b[0m\u001b[1;33m\u001b[0m\u001b[0m\n\u001b[1;32m---> 25\u001b[1;33m     \"\"\")\n\u001b[0m",
      "\u001b[1;32m/usr/local/lib/python2.7/dist-packages/overpy/__init__.pyc\u001b[0m in \u001b[0;36mquery\u001b[1;34m(self, query)\u001b[0m\n\u001b[0;32m    117\u001b[0m             raise exception.OverpassBadRequest(\n\u001b[0;32m    118\u001b[0m                 \u001b[0mquery\u001b[0m\u001b[1;33m,\u001b[0m\u001b[1;33m\u001b[0m\u001b[0m\n\u001b[1;32m--> 119\u001b[1;33m                 \u001b[0mmsgs\u001b[0m\u001b[1;33m=\u001b[0m\u001b[0mmsgs\u001b[0m\u001b[1;33m\u001b[0m\u001b[0m\n\u001b[0m\u001b[0;32m    120\u001b[0m             )\n\u001b[0;32m    121\u001b[0m \u001b[1;33m\u001b[0m\u001b[0m\n",
      "\u001b[1;31mOverpassBadRequest\u001b[0m: Error: line 5: parse error: Unknown query clause \nError: line 5: parse error: ')' expected - '{' found. "
     ]
    }
   ],
   "source": [
    "#https://pcjericks.github.io/py-gdalogr-cookbook/\n",
    "#This has been generated by the overpass-turbo wizard.\n",
    "#The original search was:\n",
    "#“natural=coastline”\n",
    "#*/\n",
    "#[out:json][timeout:25];\n",
    "#// gather results\n",
    "#(\n",
    "#  way[\"natural\"=\"coastline\"]({{bbox}});\n",
    "#);\n",
    "#// print results\n",
    "#out body;\n",
    "#>;\n",
    "#out skel qt;\n",
    "# now let's see if we can get the coast line.\n",
    "my_lla = utm.to_latlon(my_utm[0],my_utm[1],10,\"N\")\n",
    "result = api.query(\"\"\"\n",
    "    [out:json][timeout:25];\n",
    "    // gather results\n",
    "    (\n",
    "        way[\"natural\"=\"coastline\"]({{bbox}});\n",
    "    );\n",
    "    // print results\n",
    "    out body;\n",
    "    >;\n",
    "    out skel qt;\n",
    "    \"\"\")\n"
   ]
  },
  {
   "cell_type": "code",
   "execution_count": 20,
   "metadata": {
    "collapsed": false
   },
   "outputs": [
    {
     "data": {
      "text/plain": [
       "8929"
      ]
     },
     "execution_count": 20,
     "metadata": {},
     "output_type": "execute_result"
    }
   ],
   "source": [
    "gtif.RasterXSize"
   ]
  },
  {
   "cell_type": "code",
   "execution_count": null,
   "metadata": {
    "collapsed": true
   },
   "outputs": [],
   "source": []
  }
 ],
 "metadata": {
  "kernelspec": {
   "display_name": "Python 2",
   "language": "python",
   "name": "python2"
  },
  "language_info": {
   "codemirror_mode": {
    "name": "ipython",
    "version": 2
   },
   "file_extension": ".py",
   "mimetype": "text/x-python",
   "name": "python",
   "nbconvert_exporter": "python",
   "pygments_lexer": "ipython2",
   "version": "2.7.6"
  }
 },
 "nbformat": 4,
 "nbformat_minor": 2
}
